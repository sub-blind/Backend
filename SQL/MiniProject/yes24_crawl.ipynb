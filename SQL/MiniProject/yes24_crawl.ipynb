{
 "cells": [
  {
   "cell_type": "code",
   "execution_count": 41,
   "metadata": {},
   "outputs": [
    {
     "data": {
      "text/plain": [
       "'C:\\\\Users\\\\jaese\\\\.wdm\\\\drivers\\\\chromedriver\\\\win64\\\\121.0.6167.85\\\\chromedriver-win32/chromedriver.exe'"
      ]
     },
     "execution_count": 41,
     "metadata": {},
     "output_type": "execute_result"
    }
   ],
   "source": [
    "from webdriver_manager.chrome import ChromeDriverManager\n",
    "ChromeDriverManager().install()"
   ]
  },
  {
   "cell_type": "code",
   "execution_count": 42,
   "metadata": {},
   "outputs": [],
   "source": [
    "from selenium import webdriver"
   ]
  },
  {
   "cell_type": "code",
   "execution_count": 43,
   "metadata": {},
   "outputs": [
    {
     "name": "stderr",
     "output_type": "stream",
     "text": [
      "C:\\Users\\jaese\\AppData\\Local\\Temp\\ipykernel_24428\\1408124530.py:2: DeprecationWarning: executable_path has been deprecated, please pass in a Service object\n",
      "  browser = webdriver.Chrome(ChromeDriverManager().install())\n"
     ]
    }
   ],
   "source": [
    "url = \"https://google.com/\"\n",
    "browser = webdriver.Chrome(ChromeDriverManager().install())\n",
    "browser.get(url)"
   ]
  },
  {
   "cell_type": "code",
   "execution_count": 44,
   "metadata": {},
   "outputs": [],
   "source": [
    "from selenium.webdriver.common.by import By"
   ]
  },
  {
   "cell_type": "code",
   "execution_count": 45,
   "metadata": {},
   "outputs": [
    {
     "data": {
      "text/plain": [
       "'대한민국'"
      ]
     },
     "execution_count": 45,
     "metadata": {},
     "output_type": "execute_result"
    }
   ],
   "source": [
    "browser.find_element(By.CLASS_NAME, 'uU7dJb').text\n",
    "# <div class=\"uU7dJb\">대한민국</div>"
   ]
  },
  {
   "cell_type": "code",
   "execution_count": 46,
   "metadata": {},
   "outputs": [],
   "source": [
    "url = 'https://www.yes24.com/Product/category/bestseller?CategoryNumber=001&sumgb=06'\n",
    "browser.get(url)"
   ]
  },
  {
   "cell_type": "code",
   "execution_count": 47,
   "metadata": {},
   "outputs": [
    {
     "name": "stdout",
     "output_type": "stream",
     "text": [
      "https://www.yes24.com/Product/Goods/122120495\n",
      "https://www.yes24.com/Product/Goods/123675187\n",
      "https://www.yes24.com/Product/Goods/117014613\n",
      "https://www.yes24.com/Product/Goods/124043812\n",
      "https://www.yes24.com/Product/Goods/124043802\n",
      "https://www.yes24.com/Product/Goods/124702623\n",
      "https://www.yes24.com/Product/Goods/122090360\n",
      "https://www.yes24.com/Product/Goods/123400303\n",
      "https://www.yes24.com/Product/Goods/122944685\n",
      "https://www.yes24.com/Product/Goods/118579613\n",
      "https://www.yes24.com/Product/Goods/124112599\n",
      "https://www.yes24.com/Product/Goods/124539805\n",
      "https://www.yes24.com/Product/Goods/122428190\n",
      "https://www.yes24.com/Product/Goods/124501342\n",
      "https://www.yes24.com/Product/Goods/119562091\n",
      "https://www.yes24.com/Product/Goods/119458052\n",
      "https://www.yes24.com/Product/Goods/124574394\n",
      "https://www.yes24.com/Product/Goods/118413014\n",
      "https://www.yes24.com/Product/Goods/124707232\n",
      "https://www.yes24.com/Product/Goods/79297023\n",
      "https://www.yes24.com/Product/Goods/119120517\n",
      "https://www.yes24.com/Product/Goods/124702605\n",
      "https://www.yes24.com/Product/Goods/124408170\n",
      "https://www.yes24.com/Product/Goods/124719615\n"
     ]
    }
   ],
   "source": [
    "#1페이지의 링크 데이터 전부 수집\n",
    "browser.find_element(By.CLASS_NAME, 'gd_name').get_attribute('href')\n",
    "\n",
    "\n",
    "datas = browser.find_elements(By.CLASS_NAME, 'gd_name')\n",
    "\n",
    "for i in datas :\n",
    "    print(i.get_attribute('href'))"
   ]
  },
  {
   "cell_type": "code",
   "execution_count": 48,
   "metadata": {},
   "outputs": [
    {
     "name": "stdout",
     "output_type": "stream",
     "text": [
      "https://www.yes24.com/Product/Category/BestSeller?categoryNumber=001&pageNumber=1&pageSize=24\n",
      "https://www.yes24.com/Product/Category/BestSeller?categoryNumber=001&pageNumber=2&pageSize=24\n",
      "https://www.yes24.com/Product/Category/BestSeller?categoryNumber=001&pageNumber=3&pageSize=24\n"
     ]
    }
   ],
   "source": [
    "for i in range(1, 4) :\n",
    "    url = f'https://www.yes24.com/Product/Category/BestSeller?categoryNumber=001&pageNumber={i}&pageSize=24'\n",
    "    print(url)"
   ]
  },
  {
   "cell_type": "code",
   "execution_count": null,
   "metadata": {},
   "outputs": [],
   "source": [
    "import time\n",
    "\n",
    "link_list = []\n",
    "for i in range(1, 4):\n",
    "    print(\"*\" * 10, f\"현재 {i}페이지를 수집 중입니다.\")\n",
    "    url = f\"https://www.yes24.com/Product/Category/BestSeller?categoryNumber=001&pageNumber={i}&pageSize=24\"\n",
    "    browser.get(url)\n",
    "\n",
    "\n",
    "    datas = browser.find_elements(By.CLASS_NAME, \"gd_name\") # << list 형태로 들어옴\n",
    "\n",
    "    for i in datas:\n",
    "        link = print(i.get_attribute('href')) \n",
    "        link_list.append(link)\n",
    "\n",
    "    time.sleep(3)\n",
    "\n",
    "print(link_list)"
   ]
  }
 ],
 "metadata": {
  "kernelspec": {
   "display_name": "venv",
   "language": "python",
   "name": "python3"
  },
  "language_info": {
   "codemirror_mode": {
    "name": "ipython",
    "version": 3
   },
   "file_extension": ".py",
   "mimetype": "text/x-python",
   "name": "python",
   "nbconvert_exporter": "python",
   "pygments_lexer": "ipython3",
   "version": "3.10.5"
  }
 },
 "nbformat": 4,
 "nbformat_minor": 2
}
